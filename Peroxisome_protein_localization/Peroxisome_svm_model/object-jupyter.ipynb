{
 "cells": [
  {
   "cell_type": "code",
   "execution_count": 105,
   "metadata": {},
   "outputs": [],
   "source": [
    "import math\n",
    "import subprocess \n",
    "import re\n",
    "import os\n",
    "from Bio.Seq import Seq\n",
    "import numpy as np\n",
    "import pandas as pd\n",
    "from numpy import asarray\n",
    "from numpy import save\n",
    "from Bio import SeqIO\n",
    "from Bio.SeqRecord import SeqRecord\n",
    "from Bio.Alphabet import IUPAC"
   ]
  },
  {
   "cell_type": "code",
   "execution_count": 141,
   "metadata": {
    "tags": []
   },
   "outputs": [],
   "source": [
    "class Generate_pssm:\n",
    "    all_pssm_matrix = list()\n",
    "    no_hits = list()\n",
    "    number_sequence = 0\n",
    "\n",
    "    def __init__(self,fname = \"file.fasta\"):\n",
    "        self.fname = fname # assign a variable name to file\n",
    "        norm_rows = []\n",
    "        reads = SeqIO.parse(self.fname, 'fasta') # parse fasta file\n",
    "        for record in reads:\n",
    "            self.number_sequence += 1\n",
    "            self.record_id = record.id\n",
    "            self.record = record\n",
    "            self.parse(record)\n",
    "            self.blast(self.record_id)\n",
    "            self.check_if_file_exist(self.record_id)\n",
    "            return None\n",
    "    # split each sequence\n",
    "    def blast(self, record_id):\n",
    "      self.record_id = record_id\n",
    "      psi_blast_cmd = \"psiblast -db /media/yunus/TOSHIBA1TB/nr/nr -evalue 0.001 -query /home/yunus/Desktop/projects/Peroxisome_svm_model/record.fasta -out_ascii_pssm pssm/pssm_{}.csv -num_iterations 3\"  \n",
    "      self.psi_blast_cmd = psi_blast_cmd.format(self.record_id)\n",
    "      self.process = subprocess.Popen(self.psi_blast_cmd, stdout=subprocess.PIPE, shell=True)\n",
    "      output, err = self.process.communicate()  \n",
    "            #This makes the wait possible\n",
    "      p_status = self.process.wait()\n",
    "            #check if file exist\n",
    "      return None\n",
    "\n",
    "    def parse(self, record):\n",
    "        OUTPUT_FILE = \"record.fasta\"\n",
    "        output_handle = open(OUTPUT_FILE, \"w\") # YENİ OLUŞTURULAN DOSYAYI AÇ\n",
    "        SeqIO.write(self.record, output_handle, \"fasta\") # TEK SEQUENCE'I YAZ\n",
    "        output_handle.close()\n",
    "        return print (\"Fasta file has been generated : {}\".format(record.id))\n",
    "    def clean(self, line):\n",
    "        # remove extra spaces\n",
    "        self.line = line\n",
    "        t_string = self.line.rstrip()\n",
    "        t_string = re.sub(' +',' ',t_string)\n",
    "        t_string = t_string.split(' ')\n",
    "        return t_string\n",
    "    def normalize(self, pssm_matrix):\n",
    "        self.pssm_matrix = pssm_matrix\n",
    "        # normalize pssm matrix\n",
    "        # it uses 1/1+e**(-x) normalization formula\n",
    "        for i in self.pssm_matrix:\n",
    "            norm_row = []\n",
    "            for ii in i:\n",
    "                norm = float(int(1)/(int(1)+(math.exp(int(ii)*int(-1)))))\n",
    "                norm_row.append(norm)\n",
    "            norm_rows.append(norm_row)\n",
    "        return norm_rows\n",
    "\n",
    "    def check_if_file_exist(self, record_id):\n",
    "        self.record_id = record_id\n",
    "        pssm_file = \"./pssm/pssm_{}.csv\".format(self.record_id)\n",
    "        if os.path.exists(pssm_file):\n",
    "            self.aa_sequence = []\n",
    "            self.pssm_matrix = []\n",
    "            with open(pssm_file,'r') as pssm_file:\n",
    "                t_file_lines = pssm_file.readlines()\n",
    "                for line in t_file_lines:\n",
    "                    self.t_string = self.clean(line)\n",
    "                    if len(self.t_string) >= 44:\n",
    "                        #print (t_string)\n",
    "                        self.aa_sequence.append(self.t_string[2])\n",
    "                        self.pssm_matrix.append(self.t_string[3:3+20])\n",
    "                        pssm = pssm_matrix[35:]\n",
    "                        pssm_matrix = self.normalize(pssm)\n",
    "                        self.all_pssm_matrix.append(pssm_matrix)\n",
    "                        os.remove(\"./pssm/pssm_{}.csv\".format(record_id))\n",
    "                        print(\"File Removed!\")\n",
    "                        return self.all_pssm_matrix\n",
    "                    else:\n",
    "                       self.no_hits.append(self.record_id)\n",
    "                       return print (\"File does not exist: {} \\n\".format(self.record_id))"
   ]
  },
  {
   "cell_type": "code",
   "execution_count": 142,
   "metadata": {
    "tags": []
   },
   "outputs": [
    {
     "output_type": "stream",
     "name": "stdout",
     "text": "Fasta file has been generated : sp|A6MML6|ACCD_DIOEL\n"
    },
    {
     "output_type": "execute_result",
     "data": {
      "text/plain": "[]"
     },
     "metadata": {},
     "execution_count": 142
    }
   ],
   "source": [
    "deneme = Generate_pssm('results.fasta')\n",
    "deneme.all_pssm_matrix"
   ]
  }
 ],
 "metadata": {
  "kernelspec": {
   "display_name": "Python 3",
   "language": "python",
   "name": "python3"
  },
  "language_info": {
   "codemirror_mode": {
    "name": "ipython",
    "version": 3
   },
   "file_extension": ".py",
   "mimetype": "text/x-python",
   "name": "python",
   "nbconvert_exporter": "python",
   "pygments_lexer": "ipython3",
   "version": "3.7.4-final"
  }
 },
 "nbformat": 4,
 "nbformat_minor": 2
}